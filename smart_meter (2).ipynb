{
  "nbformat": 4,
  "nbformat_minor": 0,
  "metadata": {
    "colab": {
      "name": "smart_meter.ipynb",
      "provenance": [],
      "collapsed_sections": []
    },
    "kernelspec": {
      "name": "python3",
      "display_name": "Python 3"
    }
  },
  "cells": [
    {
      "cell_type": "code",
      "metadata": {
        "id": "JgpShDVMPXt7",
        "colab_type": "code",
        "colab": {}
      },
      "source": [
        "#installing spark and pyspark\n",
        "!apt-get install openjdk-8-jdk-headless -qq > /dev/null\n",
        "!wget -q http://www-eu.apache.org/dist/spark/spark-2.4.5/spark-2.4.5-bin-hadoop2.7.tgz\n",
        "!tar xf spark-2.4.5-bin-hadoop2.7.tgz\n",
        "!pip install -q findspark"
      ],
      "execution_count": 0,
      "outputs": []
    },
    {
      "cell_type": "code",
      "metadata": {
        "id": "eFnS3DWGPvnX",
        "colab_type": "code",
        "colab": {}
      },
      "source": [
        "#setting up the environment\n",
        "import os\n",
        "os.environ[\"JAVA_HOME\"] = \"/usr/lib/jvm/java-8-openjdk-amd64\"\n",
        "os.environ[\"SPARK_HOME\"] = \"/content/spark-2.4.5-bin-hadoop2.7\"\n"
      ],
      "execution_count": 0,
      "outputs": []
    },
    {
      "cell_type": "code",
      "metadata": {
        "id": "yzTfQ0x1QG1H",
        "colab_type": "code",
        "colab": {
          "base_uri": "https://localhost:8080/",
          "height": 51
        },
        "outputId": "8ac0d46d-5296-4754-e3ea-d037488e2ef1"
      },
      "source": [
        "#creating the spark session\n",
        "!pip install ipython-autotime\n",
        "\n",
        "import findspark\n",
        "findspark.init(\"spark-2.4.5-bin-hadoop2.7\")# SPARK_HOME\n",
        "from pyspark.sql import SparkSession\n",
        "spark = SparkSession.builder.master(\"local[*]\").getOrCreate()"
      ],
      "execution_count": 16,
      "outputs": [
        {
          "output_type": "stream",
          "text": [
            "Requirement already satisfied: ipython-autotime in /usr/local/lib/python3.6/dist-packages (0.1)\n",
            "time: 5.01 s\n"
          ],
          "name": "stdout"
        }
      ]
    },
    {
      "cell_type": "code",
      "metadata": {
        "id": "DEv2FwcvZ8vL",
        "colab_type": "code",
        "colab": {
          "base_uri": "https://localhost:8080/",
          "height": 68
        },
        "outputId": "986c6a69-dd9f-4a1a-c9a7-75352b50e4d2"
      },
      "source": [
        "#enter the path name for the csv file to load into data frame\n",
        "file_location = input (\"Enter path :\") \n",
        "\n",
        "df = spark.read.format(\"csv\").option(\"inferSchema\", \n",
        "           True).option(\"header\",True).load(file_location)\n",
        "display(df)"
      ],
      "execution_count": 17,
      "outputs": [
        {
          "output_type": "stream",
          "text": [
            "Enter path :/31.csv\n"
          ],
          "name": "stdout"
        },
        {
          "output_type": "display_data",
          "data": {
            "text/plain": [
              "DataFrame[TS: int, V1: double, V2: double, V3: double, W1: double, W2: double, W3: double]"
            ]
          },
          "metadata": {
            "tags": []
          }
        },
        {
          "output_type": "stream",
          "text": [
            "time: 11.4 s\n"
          ],
          "name": "stdout"
        }
      ]
    },
    {
      "cell_type": "code",
      "metadata": {
        "id": "RKwpAz4NZ_S9",
        "colab_type": "code",
        "colab": {
          "base_uri": "https://localhost:8080/",
          "height": 340
        },
        "outputId": "0ba2e6d0-c702-4bfe-ac11-3aca9e98569a"
      },
      "source": [
        "#showing the rows of dataframe\n",
        "df.show(10)\n",
        "%load_ext autotime"
      ],
      "execution_count": 27,
      "outputs": [
        {
          "output_type": "stream",
          "text": [
            "+----------+------------------+------------------+------------------+---+---+---+\n",
            "|        TS|                V1|                V2|                V3| W1| W2| W3|\n",
            "+----------+------------------+------------------+------------------+---+---+---+\n",
            "|1481729400|237.81711191370357|241.20453527083424|238.94119540350067|0.0|0.0|0.0|\n",
            "|1481733000|239.79343212510082| 243.1914987523752| 241.3527892893676|0.0|0.0|0.0|\n",
            "|1481736600| 236.0276768534611|239.09593328021202|237.00557088243573|0.0|0.0|0.0|\n",
            "|1481740200| 237.4259109282922|240.61403666722725| 238.0606201257473|0.0|0.0|0.0|\n",
            "|1481743800|238.80646512729317|241.95944270062472|238.34129290269263|0.0|0.0|0.0|\n",
            "|1481747400|  239.927194196614| 243.2497288763123|239.86506301535283|0.0|0.0|0.0|\n",
            "|1481751000|  241.159015334035|  244.195418325712|240.99010529680334|0.0|0.0|0.0|\n",
            "|1481754600|241.16312179997155| 244.4146906319325| 240.8813908248208|0.0|0.0|0.0|\n",
            "|1481758200|238.36340750140067|241.36263893684884|238.87586992339575|0.0|0.0|0.0|\n",
            "|1481761800| 235.7201443472809| 237.6109153402656|236.63476038788158|0.0|0.0|0.0|\n",
            "+----------+------------------+------------------+------------------+---+---+---+\n",
            "only showing top 10 rows\n",
            "\n",
            "The autotime extension is already loaded. To reload it, use:\n",
            "  %reload_ext autotime\n",
            "time: 207 ms\n"
          ],
          "name": "stdout"
        }
      ]
    },
    {
      "cell_type": "code",
      "metadata": {
        "id": "9RJy8iidk0oI",
        "colab_type": "code",
        "colab": {
          "base_uri": "https://localhost:8080/",
          "height": 377
        },
        "outputId": "366783b8-80fe-4c77-de08-3ca60560179e"
      },
      "source": [
        "#printing schema of dataframe\n",
        "df.printSchema()\n",
        "df.count()\n",
        "df.describe().show()"
      ],
      "execution_count": 19,
      "outputs": [
        {
          "output_type": "stream",
          "text": [
            "root\n",
            " |-- TS: integer (nullable = true)\n",
            " |-- V1: double (nullable = true)\n",
            " |-- V2: double (nullable = true)\n",
            " |-- V3: double (nullable = true)\n",
            " |-- W1: double (nullable = true)\n",
            " |-- W2: double (nullable = true)\n",
            " |-- W3: double (nullable = true)\n",
            "\n",
            "+-------+--------------------+------------------+------------------+------------------+--------------------+------------------+------------------+\n",
            "|summary|                  TS|                V1|                V2|                V3|                  W1|                W2|                W3|\n",
            "+-------+--------------------+------------------+------------------+------------------+--------------------+------------------+------------------+\n",
            "|  count|                7089|              7089|              7089|              7089|                7089|              7089|              7089|\n",
            "|   mean|1.5008588935251799E9|234.68535519345463|236.73597090883965|236.19159957139215|0.003779625634893965|0.2778347657680948|0.4966731855404814|\n",
            "| stddev|   9792368.410262927|3.9782708688217867| 4.137449180297595|3.8771409043914056| 0.20472006792974753| 3.502127475725025| 3.946749660958992|\n",
            "|    min|          1481729400| 213.9780757142889| 220.5823712094641| 221.5654292702852|                 0.0|               0.0|               0.0|\n",
            "|    max|          1528135200|  247.933436075832|251.37907962798494|248.56357760959176|  17.076914160369338| 66.20284631729137| 72.51434948603215|\n",
            "+-------+--------------------+------------------+------------------+------------------+--------------------+------------------+------------------+\n",
            "\n",
            "time: 562 ms\n"
          ],
          "name": "stdout"
        }
      ]
    },
    {
      "cell_type": "code",
      "metadata": {
        "id": "UoCQxmWApt5o",
        "colab_type": "code",
        "colab": {
          "base_uri": "https://localhost:8080/",
          "height": 510
        },
        "outputId": "81b7f21f-f744-4c1c-ff26-080c4fa83ad8"
      },
      "source": [
        "df.select('TS').show()\n",
        "%load_ext autotime"
      ],
      "execution_count": 20,
      "outputs": [
        {
          "output_type": "stream",
          "text": [
            "+----------+\n",
            "|        TS|\n",
            "+----------+\n",
            "|1481729400|\n",
            "|1481733000|\n",
            "|1481736600|\n",
            "|1481740200|\n",
            "|1481743800|\n",
            "|1481747400|\n",
            "|1481751000|\n",
            "|1481754600|\n",
            "|1481758200|\n",
            "|1481761800|\n",
            "|1481765400|\n",
            "|1481769000|\n",
            "|1481772600|\n",
            "|1481776200|\n",
            "|1481779800|\n",
            "|1481783400|\n",
            "|1481787000|\n",
            "|1481790600|\n",
            "|1481794200|\n",
            "|1481797800|\n",
            "+----------+\n",
            "only showing top 20 rows\n",
            "\n",
            "The autotime extension is already loaded. To reload it, use:\n",
            "  %reload_ext autotime\n",
            "time: 142 ms\n"
          ],
          "name": "stdout"
        }
      ]
    },
    {
      "cell_type": "code",
      "metadata": {
        "id": "tnlE5xCFxext",
        "colab_type": "code",
        "colab": {
          "base_uri": "https://localhost:8080/",
          "height": 102
        },
        "outputId": "b1a00d0a-7abe-4687-881a-ac2653870502"
      },
      "source": [
        "#function for converting the date to timestamp\n",
        "from datetime import datetime\n",
        "import time\n",
        "num = input (\"Enter Date :\") \n",
        "\n",
        "\n",
        "\n",
        "date_string = num\n",
        "\n",
        "# format date\n",
        "dt = datetime.strptime(date_string, \"%Y/%m/%d %H:%M:%S\")\n",
        "\n",
        "print(\"date_object: \", dt)\n",
        "\n",
        "\n",
        "x=(time.mktime(dt.timetuple()))\n",
        "y=int(x)\n",
        "print(\"timestamp for the given :\")\n",
        "print(y)"
      ],
      "execution_count": 29,
      "outputs": [
        {
          "output_type": "stream",
          "text": [
            "Enter Date :2017/05/02 09:30:00\n",
            "date_object:  2017-05-02 09:30:00\n",
            "timestamp for the given :\n",
            "1493717400\n",
            "time: 3.15 s\n"
          ],
          "name": "stdout"
        }
      ]
    },
    {
      "cell_type": "code",
      "metadata": {
        "id": "vyki6iXrBkGs",
        "colab_type": "code",
        "colab": {
          "base_uri": "https://localhost:8080/",
          "height": 68
        },
        "outputId": "141be817-92e6-4518-d47c-d2f5c20fd209"
      },
      "source": [
        "#function for converting the  timestamp to date\n",
        "import datetime\n",
        "print(\"date for given timestamp:\")\n",
        "print(\n",
        "    datetime.datetime.fromtimestamp(\n",
        "        int(y)\n",
        "    ).strftime('%Y-%m-%d %H:%M:%S')\n",
        ")\n"
      ],
      "execution_count": 30,
      "outputs": [
        {
          "output_type": "stream",
          "text": [
            "date for given timestamp:\n",
            "2017-05-02 09:30:00\n",
            "time: 2.48 ms\n"
          ],
          "name": "stdout"
        }
      ]
    },
    {
      "cell_type": "code",
      "metadata": {
        "id": "0izKs05tK7kZ",
        "colab_type": "code",
        "colab": {}
      },
      "source": [
        "\n",
        "\n"
      ],
      "execution_count": 0,
      "outputs": []
    },
    {
      "cell_type": "code",
      "metadata": {
        "id": "b-J7MatTOhNd",
        "colab_type": "code",
        "colab": {}
      },
      "source": [
        ""
      ],
      "execution_count": 0,
      "outputs": []
    },
    {
      "cell_type": "code",
      "metadata": {
        "id": "K9lh5GQfOaFm",
        "colab_type": "code",
        "colab": {
          "base_uri": "https://localhost:8080/",
          "height": 170
        },
        "outputId": "b86851d8-e727-49a7-90b7-ffc5c302515b"
      },
      "source": [
        "#displaying the data for a particular date using filter query\n",
        "df.filter(df.TS==y).show()\n",
        "%load_ext autotime"
      ],
      "execution_count": 23,
      "outputs": [
        {
          "output_type": "stream",
          "text": [
            "+----------+------------------+------------------+-------------+---+---+---+\n",
            "|        TS|                V1|                V2|           V3| W1| W2| W3|\n",
            "+----------+------------------+------------------+-------------+---+---+---+\n",
            "|1493717400|238.76311601914284|240.19130379799998|241.360181536|0.0|0.0|0.0|\n",
            "+----------+------------------+------------------+-------------+---+---+---+\n",
            "\n",
            "The autotime extension is already loaded. To reload it, use:\n",
            "  %reload_ext autotime\n",
            "time: 274 ms\n"
          ],
          "name": "stdout"
        }
      ]
    },
    {
      "cell_type": "code",
      "metadata": {
        "id": "c7tevwDpCjv5",
        "colab_type": "code",
        "colab": {
          "base_uri": "https://localhost:8080/",
          "height": 119
        },
        "outputId": "1a32896b-c529-4db5-9ea0-17657d65217e"
      },
      "source": [
        "#function to find the max power consumption\n",
        " maxii=df.agg({'W1': 'max'}).collect()[0][0]\n",
        " \n",
        "df2= df.filter(df.W1==maxii)\n",
        "\n",
        "t=df2.select('TS').collect()[0][0]\n",
        "print(t)\n",
        "print(\"Max power was consumed on:\")\n",
        "import datetime\n",
        "print(\n",
        "    datetime.datetime.fromtimestamp(\n",
        "        int(t)\n",
        "    ).strftime('%Y-%m-%d %H:%M:%S')\n",
        ")\n",
        "\n",
        " \n",
        "%load_ext autotime"
      ],
      "execution_count": 31,
      "outputs": [
        {
          "output_type": "stream",
          "text": [
            "1496784600\n",
            "Max power was consumed on:\n",
            "2017-06-06 21:30:00\n",
            "The autotime extension is already loaded. To reload it, use:\n",
            "  %reload_ext autotime\n",
            "time: 388 ms\n"
          ],
          "name": "stdout"
        }
      ]
    },
    {
      "cell_type": "code",
      "metadata": {
        "id": "NyLGvdrYSxpQ",
        "colab_type": "code",
        "colab": {
          "base_uri": "https://localhost:8080/",
          "height": 374
        },
        "outputId": "e42b5f5d-08c2-4ad1-cbd9-69496dd609ac"
      },
      "source": [
        "\n",
        " df.agg({'W1': 'min'}).show()\n",
        " df.agg({'W2': 'min'}).show()\n",
        "df.agg({'W3': 'min'}).show()\n",
        "%load_ext autotime"
      ],
      "execution_count": 25,
      "outputs": [
        {
          "output_type": "stream",
          "text": [
            "+-------+\n",
            "|min(W1)|\n",
            "+-------+\n",
            "|    0.0|\n",
            "+-------+\n",
            "\n",
            "+-------+\n",
            "|min(W2)|\n",
            "+-------+\n",
            "|    0.0|\n",
            "+-------+\n",
            "\n",
            "+-------+\n",
            "|min(W3)|\n",
            "+-------+\n",
            "|    0.0|\n",
            "+-------+\n",
            "\n",
            "The autotime extension is already loaded. To reload it, use:\n",
            "  %reload_ext autotime\n",
            "time: 484 ms\n"
          ],
          "name": "stdout"
        }
      ]
    },
    {
      "cell_type": "code",
      "metadata": {
        "id": "sPyrGK_DV0q7",
        "colab_type": "code",
        "colab": {
          "base_uri": "https://localhost:8080/",
          "height": 238
        },
        "outputId": "8c6f5161-0f5a-4879-9eeb-8995d216f863"
      },
      "source": [
        "#aggregate function to to find average\n",
        "df.agg({'W1': 'avg'}).show()\n",
        "df.agg({'V1': 'min'}).show()"
      ],
      "execution_count": 26,
      "outputs": [
        {
          "output_type": "stream",
          "text": [
            "+--------------------+\n",
            "|             avg(W1)|\n",
            "+--------------------+\n",
            "|0.003779625634893965|\n",
            "+--------------------+\n",
            "\n",
            "+-----------------+\n",
            "|          min(V1)|\n",
            "+-----------------+\n",
            "|213.9780757142889|\n",
            "+-----------------+\n",
            "\n",
            "time: 364 ms\n"
          ],
          "name": "stdout"
        }
      ]
    },
    {
      "cell_type": "code",
      "metadata": {
        "id": "x6pA6Qu3W6dA",
        "colab_type": "code",
        "colab": {}
      },
      "source": [
        ""
      ],
      "execution_count": 0,
      "outputs": []
    }
  ]
}